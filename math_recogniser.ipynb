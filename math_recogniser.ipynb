{
  "nbformat": 4,
  "nbformat_minor": 0,
  "metadata": {
    "colab": {
      "name": "math_recogniser.ipynb",
      "provenance": [],
      "collapsed_sections": []
    },
    "kernelspec": {
      "name": "python3",
      "display_name": "Python 3"
    },
    "accelerator": "GPU"
  },
  "cells": [
    {
      "cell_type": "code",
      "metadata": {
        "id": "spwWAJgFQJ23",
        "colab_type": "code",
        "colab": {}
      },
      "source": [
        "from __future__ import print_function\n",
        "import keras\n",
        "\n",
        "from keras.datasets import mnist\n",
        "from keras.models import Sequential\n",
        "from keras.layers import Dense, Dropout, Flatten\n",
        "from keras.layers import Conv2D, MaxPooling2D\n",
        "from keras import backend as K\n",
        "from google.colab import auth, drive\n",
        "# from pydrive.auth import GoogleAuth\n",
        "# from pydrive.drive import GoogleDrive\n",
        "# from oauth2client.client import GoogleCredentials\n",
        "import zipfile, os\n",
        "import pickle\n",
        "import pylab as plt\n",
        "import warnings\n",
        "warnings.filterwarnings('ignore')\n"
      ],
      "execution_count": 0,
      "outputs": []
    },
    {
      "cell_type": "code",
      "metadata": {
        "id": "PNxFbZmxQL0J",
        "colab_type": "code",
        "outputId": "0273e86b-d719-4cc3-d749-7f4c52a62e6d",
        "colab": {
          "base_uri": "https://localhost:8080/",
          "height": 34
        }
      },
      "source": [
        "batch_size = 128\n",
        "num_classes = 15\n",
        "epochs = 12\n",
        "\n",
        "# Input image dimensions\n",
        "img_rows, img_cols = 32, 32\n",
        "!pwd\n"
      ],
      "execution_count": 0,
      "outputs": [
        {
          "output_type": "stream",
          "text": [
            "/content\n"
          ],
          "name": "stdout"
        }
      ]
    },
    {
      "cell_type": "code",
      "metadata": {
        "id": "IPlxK-w4Qum3",
        "colab_type": "code",
        "colab": {}
      },
      "source": [
        "import os\n",
        "sub_dir = [x[0] for x in os.walk('')]\n"
      ],
      "execution_count": 0,
      "outputs": []
    },
    {
      "cell_type": "code",
      "metadata": {
        "id": "HqcpPwHuRtG8",
        "colab_type": "code",
        "outputId": "a070f93c-99ff-4912-eb59-f2ebe53b1ae3",
        "colab": {
          "base_uri": "https://localhost:8080/",
          "height": 125
        }
      },
      "source": [
        "from google.colab import drive\n",
        "drive.mount('/content/drive')"
      ],
      "execution_count": 0,
      "outputs": [
        {
          "output_type": "stream",
          "text": [
            "Go to this URL in a browser: https://accounts.google.com/o/oauth2/auth?client_id=947318989803-6bn6qk8qdgf4n4g3pfee6491hc0brc4i.apps.googleusercontent.com&redirect_uri=urn%3Aietf%3Awg%3Aoauth%3A2.0%3Aoob&scope=email%20https%3A%2F%2Fwww.googleapis.com%2Fauth%2Fdocs.test%20https%3A%2F%2Fwww.googleapis.com%2Fauth%2Fdrive%20https%3A%2F%2Fwww.googleapis.com%2Fauth%2Fdrive.photos.readonly%20https%3A%2F%2Fwww.googleapis.com%2Fauth%2Fpeopleapi.readonly&response_type=code\n",
            "\n",
            "Enter your authorization code:\n",
            "··········\n",
            "Mounted at /content/drive\n"
          ],
          "name": "stdout"
        }
      ]
    },
    {
      "cell_type": "code",
      "metadata": {
        "id": "xeWmqBxBU_Px",
        "colab_type": "code",
        "outputId": "75576a46-df8f-4d71-fe9e-4699a4f915d6",
        "colab": {
          "base_uri": "https://localhost:8080/",
          "height": 34
        }
      },
      "source": [
        "% cd drive/My Drive"
      ],
      "execution_count": 0,
      "outputs": [
        {
          "output_type": "stream",
          "text": [
            "/content/drive/My Drive\n"
          ],
          "name": "stdout"
        }
      ]
    },
    {
      "cell_type": "code",
      "metadata": {
        "id": "z64vSvZzWcIL",
        "colab_type": "code",
        "colab": {}
      },
      "source": [
        "!unzip extracted_images.zip"
      ],
      "execution_count": 0,
      "outputs": []
    },
    {
      "cell_type": "code",
      "metadata": {
        "id": "2R34xE7dWocd",
        "colab_type": "code",
        "outputId": "46d8fab0-c48e-4485-e015-3baf492724d6",
        "colab": {
          "base_uri": "https://localhost:8080/",
          "height": 52
        }
      },
      "source": [
        "% cd extracted_images\n",
        "!pwd"
      ],
      "execution_count": 0,
      "outputs": [
        {
          "output_type": "stream",
          "text": [
            "/content/drive/My Drive/extracted_images\n",
            "/content/drive/My Drive/extracted_images\n"
          ],
          "name": "stdout"
        }
      ]
    },
    {
      "cell_type": "code",
      "metadata": {
        "id": "27WIKRAYSMY_",
        "colab_type": "code",
        "colab": {}
      },
      "source": [
        ""
      ],
      "execution_count": 0,
      "outputs": []
    },
    {
      "cell_type": "code",
      "metadata": {
        "id": "TxsLVF2UjUk7",
        "colab_type": "code",
        "colab": {}
      },
      "source": [
        "from keras.datasets import mnist\n",
        "(xtr, ytr), (xte, yte) = mnist.load_data()"
      ],
      "execution_count": 0,
      "outputs": []
    },
    {
      "cell_type": "code",
      "metadata": {
        "id": "ex481K_xl7ai",
        "colab_type": "code",
        "colab": {}
      },
      "source": [
        "# with open(./outputpkl, mode='rb') as file:\n",
        "#     data = pickle.load(file, encoding='bytes')\n",
        "# print(data['filenames'])"
      ],
      "execution_count": 0,
      "outputs": []
    },
    {
      "cell_type": "code",
      "metadata": {
        "id": "w7CsxC5mZ8NZ",
        "colab_type": "code",
        "outputId": "526db6a6-003b-4bbf-dded-7b0dba0086db",
        "colab": {
          "base_uri": "https://localhost:8080/",
          "height": 140
        }
      },
      "source": [
        "import numpy as np\n",
        "from PIL import Image\n",
        "from sklearn.model_selection import train_test_split\n",
        "from scipy.misc import imread\n",
        "from matplotlib.pyplot import imshow\n",
        "from scipy.misc import imread,imresize\n",
        "\n",
        "size_image = 28\n",
        "def create_numpy(pkl_path, size_image): \n",
        "  mapper = {'0':0, '1':1, '2':2, '3':3, '4':4, '5':5, '6':6, '7':7, '8':8, '9':9, '+':10, '-':11, 'x':12, 'v':13, '=':14}\n",
        "  allowed = [10, 11, 12, 13, 14]\n",
        "  with open(pkl_path, mode='rb') as file:\n",
        "    data = pickle.load(file, encoding='bytes')\n",
        "  print(data['file_names'][0])  \n",
        "  size_dataset = 30530\n",
        "  images_numpy=np.zeros(shape=[size_dataset,size_image,size_image], dtype=float)\n",
        "  labels_numpy=np.zeros(shape=[size_dataset],dtype=int)\n",
        "  \n",
        "  itr=0\n",
        "  for i in range(len(data['file_names'])):\n",
        "    l=mapper[data['labels'][i]]\n",
        "    if l in allowed:\n",
        "      img=(imresize(imread(data['file_names'][i] , mode=\"L\"), (size_image,size_image)).astype(np.float))/255.0\n",
        "      #img=(imread(data['file_names'][i] , mode=\"L\").astype(np.float))/255.0\n",
        "      images_numpy[itr]=img\n",
        "      labels_numpy[itr]=l\n",
        "#     print('ok', end=' ')\n",
        "  print('ok')\n",
        "  return images_numpy, labels_numpy\n",
        "      \n",
        "images,labels=create_numpy(\"./outputpkl\", 28)\n",
        "label_set = set(labels)\n",
        "print(label_set)"
      ],
      "execution_count": 0,
      "outputs": [
        {
          "output_type": "stream",
          "text": [
            "/content/drive/My Drive/extracted_images/4/56344_0.png\n"
          ],
          "name": "stdout"
        },
        {
          "output_type": "stream",
          "text": [
            "/usr/local/lib/python3.6/dist-packages/ipykernel_launcher.py:23: DeprecationWarning: `imread` is deprecated!\n",
            "`imread` is deprecated in SciPy 1.0.0, and will be removed in 1.2.0.\n",
            "Use ``imageio.imread`` instead.\n",
            "/usr/local/lib/python3.6/dist-packages/ipykernel_launcher.py:23: DeprecationWarning: `imresize` is deprecated!\n",
            "`imresize` is deprecated in SciPy 1.0.0, and will be removed in 1.2.0.\n",
            "Use ``skimage.transform.resize`` instead.\n"
          ],
          "name": "stderr"
        }
      ]
    },
    {
      "cell_type": "code",
      "metadata": {
        "id": "HelEwS7JxVyr",
        "colab_type": "code",
        "outputId": "a558e019-dd3a-4742-8f16-f60f4320b42f",
        "colab": {
          "base_uri": "https://localhost:8080/",
          "height": 34
        }
      },
      "source": [
        "#print(images[0][0], labels)\n",
        "from matplotlib.pyplot import imshow\n",
        "\n",
        "X_train, X_test, y_train, y_test = train_test_split(images, labels, test_size=0.14, random_state=42)\n",
        "print(np.shape(X_train), np.shape(X_test), np.shape(y_train), np.shape(y_test))"
      ],
      "execution_count": 0,
      "outputs": [
        {
          "output_type": "stream",
          "text": [
            "(52080, 28, 28) (8479, 28, 28) (52080,) (8479,)\n"
          ],
          "name": "stdout"
        }
      ]
    },
    {
      "cell_type": "code",
      "metadata": {
        "id": "DI5U7d_Vqx61",
        "colab_type": "code",
        "outputId": "7d388879-198b-459c-bc61-1d754f726ddc",
        "colab": {
          "base_uri": "https://localhost:8080/",
          "height": 52
        }
      },
      "source": [
        "#-------------------DONT RUN-------------------\n",
        "if K.image_data_format() == 'channels_first':\n",
        "    X_train = X_train.reshape(X_train.shape[0], 1, img_rows, img_cols)\n",
        "    X_test = X_test.reshape(X_test.shape[0], 1, img_rows, img_cols)\n",
        "    input_shape = (1, img_rows, img_cols)\n",
        "else:\n",
        "    X_train = X_train.reshape(X_train.shape[0], img_rows, img_cols, 1)\n",
        "    X_test = X_test.reshape(X_test.shape[0], img_rows, img_cols, 1)\n",
        "    input_shape = (img_rows, img_cols, 1)\n",
        "\n",
        "X_train = X_train.astype('float32')\n",
        "X_test = X_test.astype('float32')\n",
        "\n",
        "# Rescale the image values to [0, 1]\n",
        "X_train /= 255\n",
        "X_test /= 255\n",
        "\n",
        "# Convert class vectors to binary class matrices\n",
        "y_train = keras.utils.to_categorical(y_train, num_classes)\n",
        "y_test = keras.utils.to_categorical(y_test, num_classes)\n",
        "\n",
        "print(np.shape(X_train), np.shape(X_test), np.shape(y_train), np.shape(y_test))\n",
        "print(y_train[0])\n"
      ],
      "execution_count": 0,
      "outputs": [
        {
          "output_type": "stream",
          "text": [
            "(52080, 28, 28, 1) (8479, 28, 28, 1) (52080, 15) (8479, 15)\n",
            "[1. 0. 0. 0. 0. 0. 0. 0. 0. 0. 0. 0. 0. 0. 0.]\n"
          ],
          "name": "stdout"
        }
      ]
    },
    {
      "cell_type": "code",
      "metadata": {
        "id": "4GBfHOk8DQ0R",
        "colab_type": "code",
        "colab": {}
      },
      "source": [
        "def draw_training_curve(history):\n",
        "\t\n",
        "\tplt.figure(1)\n",
        "\t# History for accuracy\n",
        "\tplt.subplot(211)\n",
        "\tplt.plot(history.history['acc'])\n",
        "\tplt.plot(history.history['val_acc'])\n",
        "\tplt.title('model accuracy')\n",
        "\tplt.ylabel('accuracy')\n",
        "\tplt.xlabel('epoch')\n",
        "\tplt.legend(['train', 'test'], loc='upper left')\n",
        "\n",
        "\t# History for loss\n",
        "\tplt.subplot(212)\n",
        "\tplt.plot(history.history['loss'])\n",
        "\tplt.plot(history.history['val_loss'])\n",
        "\tplt.title('model loss')\n",
        "\tplt.ylabel('loss')\n",
        "\tplt.xlabel('epoch')\n",
        "\tplt.legend(['train', 'test'], loc='upper left')\n",
        "\n",
        "\tplt.show()"
      ],
      "execution_count": 0,
      "outputs": []
    },
    {
      "cell_type": "code",
      "metadata": {
        "id": "ViIYaNyLCJJ2",
        "colab_type": "code",
        "outputId": "131db910-b9fb-4224-c1cb-bd1335b05f1f",
        "colab": {
          "base_uri": "https://localhost:8080/",
          "height": 790
        }
      },
      "source": [
        "# Set the CNN Architecture\n",
        "model = Sequential()\n",
        "model.add(Conv2D(32, kernel_size=(3, 3),\n",
        "                 activation='relu',\n",
        "                 input_shape=input_shape))\n",
        "model.add(Conv2D(64, (3, 3), activation='relu'))\n",
        "model.add(MaxPooling2D(pool_size=(2, 2)))\n",
        "model.add(Dropout(0.25))\n",
        "model.add(Flatten())\n",
        "model.add(Dense(128, activation='relu'))\n",
        "model.add(Dropout(0.5))\n",
        "model.add(Dense(num_classes, activation='softmax'))\n",
        "\n",
        "# Comple the model\n",
        "model.compile(loss=keras.losses.categorical_crossentropy,\n",
        "              optimizer=keras.optimizers.Adadelta(),\n",
        "              metrics=['accuracy'])\n",
        "\n",
        "# Train the model\n",
        "results= model.fit(X_train, y_train,\n",
        "          batch_size=batch_size,\n",
        "          epochs=epochs,\n",
        "          verbose=1,\n",
        "          validation_data=(X_test, y_test))\n",
        "\n",
        "# Save the model weights for future reference\n",
        "model.save('mnist_cnn_model.h5')\n",
        "\n",
        "# Evaluate the model using Accuracy and Loss\n",
        "score = model.evaluate(X_test, y_test, verbose=0)\n",
        "\n",
        "print('Test loss:', score[0])\n",
        "print('Test accuracy:', score[1])\n",
        "\n",
        "draw_training_curve(results)"
      ],
      "execution_count": 0,
      "outputs": [
        {
          "output_type": "stream",
          "text": [
            "Train on 52080 samples, validate on 8479 samples\n",
            "Epoch 1/12\n",
            "52080/52080 [==============================] - 8s 158us/step - loss: 2.3737 - acc: 0.1682 - val_loss: 2.3425 - val_acc: 0.1797\n",
            "Epoch 2/12\n",
            "52080/52080 [==============================] - 7s 142us/step - loss: 2.3440 - acc: 0.1839 - val_loss: 2.3449 - val_acc: 0.1797\n",
            "Epoch 3/12\n",
            "52080/52080 [==============================] - 7s 143us/step - loss: 2.3487 - acc: 0.1795 - val_loss: 2.3454 - val_acc: 0.1797\n",
            "Epoch 4/12\n",
            "52080/52080 [==============================] - 7s 142us/step - loss: 2.3479 - acc: 0.1806 - val_loss: 2.3416 - val_acc: 0.1797\n",
            "Epoch 5/12\n",
            "52080/52080 [==============================] - 7s 143us/step - loss: 2.3454 - acc: 0.1806 - val_loss: 2.3429 - val_acc: 0.1797\n",
            "Epoch 6/12\n",
            "52080/52080 [==============================] - 7s 142us/step - loss: 2.3444 - acc: 0.1807 - val_loss: 2.3417 - val_acc: 0.1797\n",
            "Epoch 7/12\n",
            "52080/52080 [==============================] - 7s 143us/step - loss: 2.3437 - acc: 0.1807 - val_loss: 2.3416 - val_acc: 0.1797\n",
            "Epoch 8/12\n",
            "52080/52080 [==============================] - 7s 142us/step - loss: 2.3441 - acc: 0.1807 - val_loss: 2.3422 - val_acc: 0.1797\n",
            "Epoch 9/12\n",
            "52080/52080 [==============================] - 7s 144us/step - loss: 2.3427 - acc: 0.1807 - val_loss: 2.3424 - val_acc: 0.1797\n",
            "Epoch 10/12\n",
            "52080/52080 [==============================] - 7s 143us/step - loss: 2.3424 - acc: 0.1807 - val_loss: 2.3415 - val_acc: 0.1797\n",
            "Epoch 11/12\n",
            "52080/52080 [==============================] - 7s 143us/step - loss: 2.3420 - acc: 0.1807 - val_loss: 2.3414 - val_acc: 0.1797\n",
            "Epoch 12/12\n",
            "52080/52080 [==============================] - 7s 143us/step - loss: 2.3415 - acc: 0.1807 - val_loss: 2.3420 - val_acc: 0.1797\n",
            "Test loss: 2.3420106081597605\n",
            "Test accuracy: 0.17973817664717345\n"
          ],
          "name": "stdout"
        },
        {
          "output_type": "display_data",
          "data": {
            "image/png": "[encoded data removed]",
            "text/plain": [
              "<Figure size 432x288 with 2 Axes>"
            ]
          },
          "metadata": {
            "tags": []
          }
        }
      ]
    },
    {
      "cell_type": "code",
      "metadata": {
        "id": "gK1o9MXcC8qW",
        "colab_type": "code",
        "colab": {}
      },
      "source": [
        ""
      ],
      "execution_count": 0,
      "outputs": []
    }
  ]
}